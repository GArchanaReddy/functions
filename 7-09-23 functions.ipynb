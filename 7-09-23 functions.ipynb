{
 "cells": [
  {
   "cell_type": "markdown",
   "id": "b7e5f5a3",
   "metadata": {},
   "source": [
    "# functions :"
   ]
  },
  {
   "cell_type": "markdown",
   "id": "74ab50dd",
   "metadata": {},
   "source": [
    " A function is a block of code which only runs when it is called you can pass data, known as parameter, into a function . a function can return data as a results.\n",
    "  creating a function: in a python a function is defined by  using \" def \" keyword:\n",
    "   #calling a function : To call a function,use the function name followed by parenthesis:\n",
    "  "
   ]
  },
  {
   "attachments": {},
   "cell_type": "markdown",
   "id": "6223b20d",
   "metadata": {},
   "source": [
    "syntax:\n",
    "  func_name(parameter/parameters)\n",
    "         block of code\n",
    "         "
   ]
  },
  {
   "cell_type": "markdown",
   "id": "b6541d78",
   "metadata": {},
   "source": [
    "def : keywors, tells the interpreter that we are defining a function.\n",
    " func_name : name we give to the function we aree defining, it acts as a variable name to the block of code.\n",
    "  parameter: can be considered as the variable we are  used to write/define our function.\n",
    "  \n",
    " "
   ]
  },
  {
   "cell_type": "markdown",
   "id": "d1f2c707",
   "metadata": {},
   "source": [
    "syntax of calling function:\n",
    " func_name(args/arg)\n",
    "  args/ arg : actual inputs for functions.\n",
    "  "
   ]
  },
  {
   "cell_type": "code",
   "execution_count": 7,
   "id": "c256f7dd",
   "metadata": {},
   "outputs": [
    {
     "name": "stdout",
     "output_type": "stream",
     "text": [
      "5.0\n"
     ]
    }
   ],
   "source": [
    "def fooDivision(a,b) :\n",
    "    print(a/b)\n",
    "fooDivision(10, 2)\n"
   ]
  },
  {
   "cell_type": "markdown",
   "id": "7b64282b",
   "metadata": {},
   "source": [
    "Position argument:\n",
    " passing the argument based on the position of argument are called positional arguments.\n",
    " "
   ]
  },
  {
   "cell_type": "code",
   "execution_count": 10,
   "id": "52427cf0",
   "metadata": {},
   "outputs": [
    {
     "name": "stdout",
     "output_type": "stream",
     "text": [
      "5.0\n"
     ]
    }
   ],
   "source": [
    "def fooDivision(b,a):\n",
    "    print(a/b)\n",
    "fooDivision(2,10)    \n",
    "    \n",
    "     \n",
    "        "
   ]
  },
  {
   "cell_type": "markdown",
   "id": "d16fcccd",
   "metadata": {},
   "source": [
    "key word arguments()\n",
    "At time of calling the function if we pass the arguments by using the parameter name, these kind of arguments are called as keyword arguments.\n",
    " \n",
    " "
   ]
  },
  {
   "cell_type": "code",
   "execution_count": 15,
   "id": "083540fe",
   "metadata": {},
   "outputs": [
    {
     "name": "stdout",
     "output_type": "stream",
     "text": [
      "5.0\n"
     ]
    }
   ],
   "source": [
    "def foodivision(numerator,denominator):\n",
    "    print(numerator/denominator)\n",
    "foodivision(numerator = 10,denominator = 2)    "
   ]
  },
  {
   "cell_type": "code",
   "execution_count": 12,
   "id": "9e0c9dbf",
   "metadata": {},
   "outputs": [
    {
     "ename": "SyntaxError",
     "evalue": "invalid syntax (1051612551.py, line 1)",
     "output_type": "error",
     "traceback": [
      "\u001b[1;36m  Cell \u001b[1;32mIn[12], line 1\u001b[1;36m\u001b[0m\n\u001b[1;33m    default arguments():\u001b[0m\n\u001b[1;37m            ^\u001b[0m\n\u001b[1;31mSyntaxError\u001b[0m\u001b[1;31m:\u001b[0m invalid syntax\n"
     ]
    }
   ],
   "source": [
    "default arguments():\n",
    "arguments are assign during the defining the function at everytime comes then it default to take that values.\n",
    "     def fooconcatenationofstring(s1:str,s2:'',n = 1): \n",
    "        print((s1+s2)*n)\n",
    "        fooconcatenationofstring(s1='he',s2='haha',n=5)\n",
    "        \n"
   ]
  },
  {
   "cell_type": "code",
   "execution_count": 13,
   "id": "434cdfb9",
   "metadata": {},
   "outputs": [
    {
     "name": "stdout",
     "output_type": "stream",
     "text": [
      "490.00000000000006\n"
     ]
    }
   ],
   "source": [
    "def potentialEnergy(m,h,g=9.8):\n",
    "    print(m*h*g)\n",
    "potentialEnergy(10,5)    \n",
    "    "
   ]
  },
  {
   "cell_type": "markdown",
   "id": "24346dee",
   "metadata": {},
   "source": [
    "document strings : to print the doc strings by using func_name.doc\n",
    " a doc string is typically placed as the first statement in a module,class,function or method and is enclosed intriple quotes(either single or double quotes) "
   ]
  },
  {
   "cell_type": "code",
   "execution_count": 3,
   "id": "84ca5f2f",
   "metadata": {},
   "outputs": [
    {
     "name": "stdout",
     "output_type": "stream",
     "text": [
      "\n",
      "    d=denominator\n",
      "    n=numerator\n",
      "    \n"
     ]
    }
   ],
   "source": [
    "def foodivision (d:float,n:float):\n",
    "    '''\n",
    "    d=denominator\n",
    "    n=numerator\n",
    "    '''\n",
    "    print(n/d)\n",
    "print(foodivision.__doc__)    "
   ]
  },
  {
   "cell_type": "code",
   "execution_count": null,
   "id": "dbfad866",
   "metadata": {},
   "outputs": [],
   "source": []
  }
 ],
 "metadata": {
  "kernelspec": {
   "display_name": "Python 3 (ipykernel)",
   "language": "python",
   "name": "python3"
  },
  "language_info": {
   "codemirror_mode": {
    "name": "ipython",
    "version": 3
   },
   "file_extension": ".py",
   "mimetype": "text/x-python",
   "name": "python",
   "nbconvert_exporter": "python",
   "pygments_lexer": "ipython3",
   "version": "3.11.5"
  }
 },
 "nbformat": 4,
 "nbformat_minor": 5
}
